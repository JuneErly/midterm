{
  "nbformat": 4,
  "nbformat_minor": 0,
  "metadata": {
    "colab": {
      "name": "June_Erly_Martinez_ExamPart2.ipynb",
      "provenance": [],
      "collapsed_sections": [],
      "toc_visible": true
    },
    "kernelspec": {
      "name": "python3",
      "display_name": "Python 3"
    },
    "language_info": {
      "name": "python"
    }
  },
  "cells": [
    {
      "cell_type": "code",
      "execution_count": 35,
      "metadata": {
        "colab": {
          "base_uri": "https://localhost:8080/"
        },
        "id": "s-ce1H256oMm",
        "outputId": "38374539-5b3b-471a-f809-f3d5b2a623ae"
      },
      "outputs": [
        {
          "output_type": "stream",
          "name": "stdout",
          "text": [
            "1 is odd\n",
            "2 is even\n",
            "3 is odd\n",
            "4 is even\n",
            "5 is odd\n",
            "6 is even\n"
          ]
        }
      ],
      "source": [
        "numbers = [1, 2, 3, 4, 5, 6]\n",
        "\n",
        "for number in numbers:\n",
        "    if (number%2) == 0:\n",
        "      print(f\"{number} is even\")\n",
        "    else:\n",
        "      print(f\"{number} is odd\")"
      ]
    },
    {
      "cell_type": "markdown",
      "source": [
        "it identify if the number is odd or even"
      ],
      "metadata": {
        "id": "wJrPipqk613b"
      }
    },
    {
      "cell_type": "code",
      "source": [
        "numbers = [1, 2, 3, 4, 5, 6]\n",
        "evens = [ ]\n",
        "odds = [ ]\n",
        "\n",
        "for number in numbers:\n",
        "  if (number%2) == 0:\n",
        "    evens.append(number)\n",
        "\n",
        "for number in numbers:\n",
        "  if (number%2) != 0:\n",
        "    odds.append(number)\n",
        "\n",
        "print(evens)\n",
        "print(odds)      "
      ],
      "metadata": {
        "colab": {
          "base_uri": "https://localhost:8080/"
        },
        "id": "PwCshN3S7Jry",
        "outputId": "ca14876a-1457-4dbd-d7a4-ae74a645ea87"
      },
      "execution_count": 2,
      "outputs": [
        {
          "output_type": "stream",
          "name": "stdout",
          "text": [
            "[2, 4, 6]\n",
            "[1, 3, 5]\n"
          ]
        }
      ]
    },
    {
      "cell_type": "markdown",
      "source": [
        "it will seperate the odd and even numbers"
      ],
      "metadata": {
        "id": "MGqAPSJn7Mdh"
      }
    },
    {
      "cell_type": "code",
      "source": [
        "numbers = [1, 2, 3, 4, 5, 6]\n",
        "doubles = [ ]\n",
        "\n",
        "for number in numbers:\n",
        "    number *= 2\n",
        "    doubles.append(number)\n",
        "print(doubles)  "
      ],
      "metadata": {
        "colab": {
          "base_uri": "https://localhost:8080/"
        },
        "id": "YMVX-p3q7Rap",
        "outputId": "d08cd985-ba2e-4cba-dc42-e92eb6dea359"
      },
      "execution_count": 34,
      "outputs": [
        {
          "output_type": "stream",
          "name": "stdout",
          "text": [
            "[2, 4, 6, 8, 10, 12]\n"
          ]
        }
      ]
    },
    {
      "cell_type": "markdown",
      "source": [
        "it will dobles the number by 2 so the result is 2, 4, 6, 8, 10, 12.\n"
      ],
      "metadata": {
        "id": "9laeky9Q7TvB"
      }
    },
    {
      "cell_type": "code",
      "source": [
        "numbers = [1, 2, 3, 4, 5, 6]\n",
        "evens = [number for number in numbers if (number % 2) == 0]\n",
        "odds = [number for number in numbers if (number % 2) != 0]\n",
        "\n",
        "print(evens)\n",
        "print(odds)"
      ],
      "metadata": {
        "colab": {
          "base_uri": "https://localhost:8080/"
        },
        "id": "gsX6XWs27XMZ",
        "outputId": "5d9a0c4d-8d9e-4239-ef06-442d263c39d6"
      },
      "execution_count": 31,
      "outputs": [
        {
          "output_type": "stream",
          "name": "stdout",
          "text": [
            "[2, 4, 6]\n",
            "[1, 3, 5]\n"
          ]
        }
      ]
    },
    {
      "cell_type": "markdown",
      "source": [
        "it will seperate the odd and even number\n"
      ],
      "metadata": {
        "id": "X77lx_Dn7bHB"
      }
    },
    {
      "cell_type": "code",
      "source": [
        "numbers = [1, 2, 3, 4, 5, 6]\n",
        "doudles = [number * 2 for number in numbers]\n",
        "print(doubles)"
      ],
      "metadata": {
        "colab": {
          "base_uri": "https://localhost:8080/"
        },
        "id": "MLLWwI_h7dXR",
        "outputId": "8ddf1f2a-9ea5-49f2-8882-cc1173fe8722"
      },
      "execution_count": 13,
      "outputs": [
        {
          "output_type": "stream",
          "name": "stdout",
          "text": [
            "[2, 4, 6, 8, 10, 12]\n"
          ]
        }
      ]
    },
    {
      "cell_type": "markdown",
      "source": [
        "it will dobles the number by 2 so the result is 2, 4, 6, 8, 10, 12.\n"
      ],
      "metadata": {
        "id": "qf6m3lx27nxg"
      }
    },
    {
      "cell_type": "code",
      "source": [
        "name_lengths = []\n",
        "names = [\"alice\", \"bob\", \"carol\"]\n",
        "name_lengths = [len(name) for name in names]\n",
        "\n",
        "print(name_lengths)"
      ],
      "metadata": {
        "colab": {
          "base_uri": "https://localhost:8080/"
        },
        "id": "7_EqXDOm7p3n",
        "outputId": "045e87f7-c1cb-4b40-dad4-4ace68417d9f"
      },
      "execution_count": 30,
      "outputs": [
        {
          "output_type": "stream",
          "name": "stdout",
          "text": [
            "[5, 3, 5]\n"
          ]
        }
      ]
    },
    {
      "cell_type": "markdown",
      "source": [
        "it will count the letters of the name \n"
      ],
      "metadata": {
        "id": "Z9zjPXpD7trP"
      }
    },
    {
      "cell_type": "code",
      "source": [
        "record = [\"alice\", 5]\n",
        "name, length = record\n",
        "print(f\"{name} have a length of {length}\")"
      ],
      "metadata": {
        "colab": {
          "base_uri": "https://localhost:8080/"
        },
        "id": "e6J_929W7x3f",
        "outputId": "6d295e47-9fa2-4ff6-9d0c-df2892715157"
      },
      "execution_count": 28,
      "outputs": [
        {
          "output_type": "stream",
          "name": "stdout",
          "text": [
            "alice have a length of 5\n"
          ]
        }
      ]
    },
    {
      "cell_type": "markdown",
      "source": [
        "it will print the length in the records\n"
      ],
      "metadata": {
        "id": "fuqVGqIt77j-"
      }
    },
    {
      "cell_type": "code",
      "source": [
        "records = [\n",
        "  [\"alice\", 5],\n",
        "  [\"bob\", 3],\n",
        "  [\"carol\", 4],\n",
        "]\n",
        "\n",
        "for name, length in records:\n",
        "  print(f\"{name} have a length of {length}\")"
      ],
      "metadata": {
        "colab": {
          "base_uri": "https://localhost:8080/"
        },
        "id": "zGArVyil79-n",
        "outputId": "e473adcd-91d4-4d9e-a20d-68b762e76f52"
      },
      "execution_count": 27,
      "outputs": [
        {
          "output_type": "stream",
          "name": "stdout",
          "text": [
            "alice have a length of 5\n",
            "bob have a length of 3\n",
            "carol have a length of 4\n"
          ]
        }
      ]
    },
    {
      "cell_type": "markdown",
      "source": [
        "it will print the length one by one in the records"
      ],
      "metadata": {
        "id": "xkdhcN0F8DVX"
      }
    },
    {
      "cell_type": "code",
      "source": [
        "names = [\"alice\", \"bob\", \"carol\"]\n",
        "name_lengths = [5, 3, 5]\n",
        "\n",
        "for name, length in zip(names, name_lengths):\n",
        "    print(f\"{name} have a length of {length}\")\n",
        "\n",
        "    print (zip(names, name_lengths))\n",
        "    print (list(zip(names, name_lengths)))"
      ],
      "metadata": {
        "colab": {
          "base_uri": "https://localhost:8080/"
        },
        "id": "dkB7pujG8KLw",
        "outputId": "22df189a-220b-49ce-9e2b-6750ae45d3be"
      },
      "execution_count": 26,
      "outputs": [
        {
          "output_type": "stream",
          "name": "stdout",
          "text": [
            "alice have a length of 5\n",
            "<zip object at 0x7f0338c8af50>\n",
            "[('alice', 5), ('bob', 3), ('carol', 5)]\n",
            "bob have a length of 3\n",
            "<zip object at 0x7f0338c8a690>\n",
            "[('alice', 5), ('bob', 3), ('carol', 5)]\n",
            "carol have a length of 5\n",
            "<zip object at 0x7f0338c8a910>\n",
            "[('alice', 5), ('bob', 3), ('carol', 5)]\n"
          ]
        }
      ]
    },
    {
      "cell_type": "markdown",
      "source": [
        "it will print the length and code of the names\n"
      ],
      "metadata": {
        "id": "KHQEBHNM8N0m"
      }
    },
    {
      "cell_type": "code",
      "source": [
        "names = [\"alice\", \"bob\", \"carol\", \"marvin\"]\n",
        "name_lengths = [5, 3, 5]\n",
        "genders = [\"female\", \"male\", \"female\"]\n",
        "ages = [15, 22, 34]\n",
        "\n",
        "for name, length, gender, age in zip(names,name_lengths, genders, ages):\n",
        "  print(f\"{name} have a length of {length}. They are {gender}. Ages are {age}\")\n",
        "  print(filter)"
      ],
      "metadata": {
        "colab": {
          "base_uri": "https://localhost:8080/"
        },
        "id": "xI40qfWm8SSO",
        "outputId": "37283a30-3abd-4c07-c01e-3025b7214565"
      },
      "execution_count": 24,
      "outputs": [
        {
          "output_type": "stream",
          "name": "stdout",
          "text": [
            "alice have a length of 5. They are female. Ages are 15\n",
            "<class 'filter'>\n",
            "bob have a length of 3. They are male. Ages are 22\n",
            "<class 'filter'>\n",
            "carol have a length of 5. They are female. Ages are 34\n",
            "<class 'filter'>\n"
          ]
        }
      ]
    },
    {
      "cell_type": "markdown",
      "source": [
        "it will identify the sex and age of the names from the given information"
      ],
      "metadata": {
        "id": "GI3PTikN8fTR"
      }
    }
  ]
}