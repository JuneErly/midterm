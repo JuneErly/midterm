{
  "cells": [
    {
      "cell_type": "code",
      "source": [
        "heroes = ['Batman','Superman','Spiderman']\n",
        "print(heroes)\n",
        "print(heroes.index('Batman'))\n",
        "print(heroes[0])\n",
        "heroes.append('Wonderwoman')\n",
        "heroes.remove('Batman')\n",
        "#print(heroes[2])\n",
        "print(heroes.index('Superman'))\n",
        "print(heroes)\n",
        "\n"
      ],
      "metadata": {
        "id": "iBZ7ZRdSmVkr",
        "outputId": "87f5b1b2-ec74-4b94-82cd-a494592fdf50",
        "colab": {
          "base_uri": "https://localhost:8080/"
        }
      },
      "execution_count": null,
      "outputs": [
        {
          "output_type": "stream",
          "name": "stdout",
          "text": [
            "['Batman', 'Superman', 'Spiderman']\n",
            "0\n",
            "Batman\n",
            "0\n",
            "['Superman', 'Spiderman', 'Wonderwoman']\n"
          ]
        }
      ]
    },
    {
      "cell_type": "markdown",
      "source": [
        "during execution error showed in line 1 & 7 and the reason is the # sign thats why i remove it and it succefully print the output"
      ],
      "metadata": {
        "id": "8PtuuGuS2eKg"
      }
    },
    {
      "cell_type": "code",
      "source": [
        "heroes = ['Batman','Superman','Spiderman']\n",
        "print('Batman' in heroes)\n",
        "print('Ironman' not in heroes)\n",
        "hero = 'superman'\n",
        "print(hero in heroes)\n",
        "print('ironman'not in ['Captain America','Ironman','Hulk'])"
      ],
      "metadata": {
        "id": "SPWaOT87ob5r",
        "outputId": "fb7907f7-334a-4731-c8a1-b762c0188071",
        "colab": {
          "base_uri": "https://localhost:8080/"
        }
      },
      "execution_count": null,
      "outputs": [
        {
          "output_type": "stream",
          "name": "stdout",
          "text": [
            "True\n",
            "True\n",
            "False\n",
            "True\n"
          ]
        }
      ]
    },
    {
      "cell_type": "markdown",
      "source": [
        "in this code it will identified if the heroes are belong using true or false"
      ],
      "metadata": {
        "id": "IkrU7BEz2AIy"
      }
    },
    {
      "cell_type": "code",
      "source": [
        "heroes1 = ['Batman','Superman','Spiderman']\n",
        "heroes2 = ['Captain America','Ironman','Hulk']\n",
        "print (heroes1 + heroes2)\n",
        "heroes = heroes1 + heroes2\n",
        "heroes2.remove('Hulk')\n",
        "print(heroes2)"
      ],
      "metadata": {
        "id": "cdeTvIn2pYGX",
        "outputId": "c75fe44e-81e2-40aa-9b7c-cf2c61319ec1",
        "colab": {
          "base_uri": "https://localhost:8080/"
        }
      },
      "execution_count": null,
      "outputs": [
        {
          "output_type": "stream",
          "name": "stdout",
          "text": [
            "['Batman', 'Superman', 'Spiderman', 'Captain America', 'Ironman', 'Hulk']\n",
            "['Captain America', 'Ironman']\n"
          ]
        }
      ]
    },
    {
      "cell_type": "markdown",
      "source": [
        "in this code it will print all the name of the hereos"
      ],
      "metadata": {
        "id": "dNV0Jr4B3hpP"
      }
    },
    {
      "cell_type": "code",
      "source": [
        "heroes = ['Batman','Superman','Spiderman','Captain America','Ironman','Hulk']\n",
        "heroes.sort()\n",
        "print(heroes)\n",
        "heroes.reverse()\n",
        "print(heroes)"
      ],
      "metadata": {
        "id": "2D8VD5X6qXVn",
        "outputId": "cf6feefb-0054-4fdb-ddfb-9b6394aba12b",
        "colab": {
          "base_uri": "https://localhost:8080/"
        }
      },
      "execution_count": null,
      "outputs": [
        {
          "output_type": "stream",
          "name": "stdout",
          "text": [
            "['Batman', 'Captain America', 'Hulk', 'Ironman', 'Spiderman', 'Superman']\n",
            "['Superman', 'Spiderman', 'Ironman', 'Hulk', 'Captain America', 'Batman']\n"
          ]
        }
      ]
    },
    {
      "cell_type": "markdown",
      "source": [
        "it will print all the name of the hereos alphabetical in reverse"
      ],
      "metadata": {
        "id": "16gfdXz94ED1"
      }
    },
    {
      "cell_type": "code",
      "source": [
        "heroes = ['Batman','Superman','Spiderman','Captain America','Ironman','Hulk']\n",
        "print(sorted(heroes))\n",
        "print(list(reversed(heroes)))\n",
        "print(heroes)"
      ],
      "metadata": {
        "id": "ATepMWJWr-Qs",
        "outputId": "4aab94b7-80e6-4d7b-8091-5723c1d8e536",
        "colab": {
          "base_uri": "https://localhost:8080/"
        }
      },
      "execution_count": null,
      "outputs": [
        {
          "output_type": "stream",
          "name": "stdout",
          "text": [
            "['Batman', 'Captain America', 'Hulk', 'Ironman', 'Spiderman', 'Superman']\n",
            "['Hulk', 'Ironman', 'Captain America', 'Spiderman', 'Superman', 'Batman']\n",
            "['Batman', 'Superman', 'Spiderman', 'Captain America', 'Ironman', 'Hulk']\n"
          ]
        }
      ]
    },
    {
      "cell_type": "markdown",
      "source": [
        "in first line it sort the heroes name. in second line it sort the heroes name in reverse. in third line it print the heroes name."
      ],
      "metadata": {
        "id": "m5zpLQ9G4SQx"
      }
    },
    {
      "cell_type": "code",
      "source": [
        "heroes = ['Batman', 'Superman', 'spiderman', 'Captain America', 'Ironman', 'Hulk'] \n",
        "for hero in heroes:\n",
        "    print(f\"my hero is {hero}\") #Try this also\n",
        "    print(\"my hero is {}\".format(hero))"
      ],
      "metadata": {
        "colab": {
          "base_uri": "https://localhost:8080/"
        },
        "id": "tnG5NjfL3vKt",
        "outputId": "fa3e59a9-c524-4aa9-e2bd-e555d49c0b73"
      },
      "execution_count": 2,
      "outputs": [
        {
          "output_type": "stream",
          "name": "stdout",
          "text": [
            "my hero is Batman\n",
            "my hero is Batman\n",
            "my hero is Superman\n",
            "my hero is Superman\n",
            "my hero is spiderman\n",
            "my hero is spiderman\n",
            "my hero is Captain America\n",
            "my hero is Captain America\n",
            "my hero is Ironman\n",
            "my hero is Ironman\n",
            "my hero is Hulk\n",
            "my hero is Hulk\n"
          ]
        }
      ]
    },
    {
      "cell_type": "markdown",
      "source": [
        "in this code it print my heroes twice with heroes name"
      ],
      "metadata": {
        "id": "zXSP0x1e3_Q8"
      }
    },
    {
      "cell_type": "code",
      "source": [
        "numbers = [1, 2, 3, 4, 5, 6]\n",
        "total = 0\n",
        "for number in numbers:\n",
        "    total = total + number\n",
        "print(total)"
      ],
      "metadata": {
        "id": "TSwVCZfYu6e9",
        "outputId": "0ad7ad92-db85-4daa-d656-d6c6e8511652",
        "colab": {
          "base_uri": "https://localhost:8080/"
        }
      },
      "execution_count": 6,
      "outputs": [
        {
          "output_type": "stream",
          "name": "stdout",
          "text": [
            "21\n"
          ]
        }
      ]
    },
    {
      "cell_type": "markdown",
      "source": [
        "in this code it print and total all the numbers including 0 so the result will be 21."
      ],
      "metadata": {
        "id": "zsIQ6RZS4khd"
      }
    },
    {
      "cell_type": "code",
      "source": [
        "numbers = [1, 2, 3, 4, 5, 6]\n",
        "total = sum(numbers)\n",
        "print(total)"
      ],
      "metadata": {
        "id": "dXCoNILzwRhY",
        "outputId": "a9c5d9ef-ebec-4602-e7b1-04c91118d63f",
        "colab": {
          "base_uri": "https://localhost:8080/"
        }
      },
      "execution_count": 7,
      "outputs": [
        {
          "output_type": "stream",
          "name": "stdout",
          "text": [
            "21\n"
          ]
        }
      ]
    },
    {
      "cell_type": "markdown",
      "source": [
        "all the numbers have been total"
      ],
      "metadata": {
        "id": "DK8kxgyM4z5q"
      }
    },
    {
      "cell_type": "code",
      "source": [
        "age = input(\"Type your age: \")\n",
        "age = int(age)\n",
        "if age >= 100:\n",
        "    print(\"That is not a valid age\")\n",
        "elif age >= 18:\n",
        "    print(\"You are old enough to drive\")\n",
        "elif age <= 0:\n",
        "    print(\"That is not a valid age\")\n",
        "else:\n",
        "    print(\"You are not old enough to drive\")"
      ],
      "metadata": {
        "id": "Fh6Tt2FJwi1E",
        "outputId": "5cff0323-ba60-4019-82b1-18e3527644bc",
        "colab": {
          "base_uri": "https://localhost:8080/"
        }
      },
      "execution_count": null,
      "outputs": [
        {
          "output_type": "stream",
          "name": "stdout",
          "text": [
            "type your age:0\n",
            "that is not a valid age\n"
          ]
        }
      ]
    },
    {
      "cell_type": "markdown",
      "source": [
        "in this code it will ask you your age and idenfied if your age are valid to drive or not"
      ],
      "metadata": {
        "id": "CDGL0RmD49e4"
      }
    },
    {
      "cell_type": "code",
      "source": [
        "age = input(\"Type your age: \")\n",
        "age = int(age)\n",
        "if age >= 100 or age <= 0:\n",
        "     print(\"That is not a valid age\")\n",
        "elif age >= 18:\n",
        "      print(\"You are old enough to drive\")\n",
        "else:\n",
        "     print(\"You are not old enough to drive\")"
      ],
      "metadata": {
        "id": "DXv2jNqJyW4S",
        "outputId": "c77d8686-564c-46d8-c80b-38c56b26b7f0",
        "colab": {
          "base_uri": "https://localhost:8080/"
        }
      },
      "execution_count": null,
      "outputs": [
        {
          "output_type": "stream",
          "name": "stdout",
          "text": [
            "type your age:31\n",
            "you are old enough to drive\n"
          ]
        }
      ]
    },
    {
      "cell_type": "markdown",
      "source": [
        "in this code it will ask you your age and idenfied if your age are not old  enough to drive"
      ],
      "metadata": {
        "id": "pxQUopIX6Cvl"
      }
    },
    {
      "cell_type": "code",
      "source": [
        "numbers = [200, 100, 43, 10, -10, 0]\n",
        "for number in numbers:\n",
        "    if number > 100:\n",
        "         print(f\"{number} is greater than 100\")\n",
        "    elif number < 100: \n",
        "        print(f\"{number} is less than 100\")"
      ],
      "metadata": {
        "id": "j83vwJOSyyDn",
        "outputId": "5e2be193-5d9e-4413-f16d-38ceef55b72f",
        "colab": {
          "base_uri": "https://localhost:8080/"
        }
      },
      "execution_count": 10,
      "outputs": [
        {
          "output_type": "stream",
          "name": "stdout",
          "text": [
            "200 is greater than 100\n",
            "43 is less than 100\n",
            "10 is less than 100\n",
            "-10 is less than 100\n",
            "0 is less than 100\n"
          ]
        }
      ]
    },
    {
      "cell_type": "markdown",
      "source": [
        "it will identified if the numbers are less or greater than 100"
      ],
      "metadata": {
        "id": "hHWy1R-26Opw"
      }
    },
    {
      "cell_type": "code",
      "source": [
        "numbers = [200, 100, 43, 10, -10, 0]\n",
        "filtered = [] \n",
        "for number in numbers:\n",
        "     if number > 30:\n",
        "         filtered.append(number) \n",
        "print(filtered) "
      ],
      "metadata": {
        "colab": {
          "base_uri": "https://localhost:8080/"
        },
        "id": "2GiQr25X5dAI",
        "outputId": "c24df69d-19e2-41da-86a1-3f0c63ca6f22"
      },
      "execution_count": 8,
      "outputs": [
        {
          "output_type": "stream",
          "name": "stdout",
          "text": [
            "[200, 100, 43]\n"
          ]
        }
      ]
    },
    {
      "cell_type": "markdown",
      "source": [
        "it will identified if the numbers are less than 30"
      ],
      "metadata": {
        "id": "pKt5a3VX5d3f"
      }
    }
  ],
  "metadata": {
    "colab": {
      "collapsed_sections": [],
      "name": "June_Erly_Martinez_ExamPart1",
      "toc_visible": true,
      "provenance": []
    },
    "kernelspec": {
      "display_name": "Python 3",
      "name": "python3"
    }
  },
  "nbformat": 4,
  "nbformat_minor": 0
}